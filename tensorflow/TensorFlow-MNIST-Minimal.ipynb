{
 "cells": [
  {
   "cell_type": "code",
   "execution_count": null,
   "id": "1c02700a",
   "metadata": {
    "ExecuteTime": {
     "end_time": "2021-03-04T20:07:47.647809Z",
     "start_time": "2021-03-04T20:07:47.622673Z"
    }
   },
   "outputs": [],
   "source": [
    "!pip install tensorflow tensorflow_datasets prometheus_client --progress-bar off"
   ]
  },
  {
   "cell_type": "code",
   "execution_count": null,
   "id": "6ff2c1f8",
   "metadata": {
    "ExecuteTime": {
     "end_time": "2021-03-04T15:32:58.177302Z",
     "start_time": "2021-03-04T15:31:59.263480Z"
    }
   },
   "outputs": [],
   "source": [
    "import tensorflow as tf\n",
    "import tensorflow_datasets as tfds\n",
    "import warnings\n",
    "warnings.filterwarnings('ignore')\n",
    "\n",
    "tfds.disable_progress_bar()\n",
    "\n",
    "(mnist_train, mnist_test), ds_info = tfds.load(\n",
    "    'mnist',\n",
    "    split=['train', 'test'],\n",
    "    shuffle_files=True,\n",
    "    as_supervised=True,\n",
    "    with_info=True,\n",
    ")\n",
    "\n",
    "\n",
    "def normalize_img(image, label):\n",
    "    \"\"\"Normalizes images: `uint8` -> `float32`.\"\"\"\n",
    "    return tf.cast(image, tf.float32) / 255.0, label\n",
    "\n",
    "\n",
    "mnist_train = mnist_train.map(\n",
    "    normalize_img, num_parallel_calls=tf.data.experimental.AUTOTUNE)\n",
    "mnist_train = mnist_train.cache() \\\n",
    "    .shuffle(ds_info.splits['train'].num_examples) \\\n",
    "    .batch(128) \\\n",
    "    .prefetch(tf.data.experimental.AUTOTUNE)\n",
    "\n",
    "mnist_test = mnist_test.map(\n",
    "    normalize_img, num_parallel_calls=tf.data.experimental.AUTOTUNE)\n",
    "mnist_test = mnist_test.batch(128) \\\n",
    "    .cache() \\\n",
    "    .prefetch(tf.data.experimental.AUTOTUNE)\n",
    "\n",
    "\n",
    "model = tf.keras.models.Sequential([\n",
    "    tf.keras.layers.Conv2D(\n",
    "        filters=32, kernel_size=(2, 2), input_shape=(28, 28, 1)),\n",
    "    tf.keras.layers.MaxPooling2D(pool_size=(2, 2), strides=2),\n",
    "    tf.keras.layers.Flatten(),\n",
    "    tf.keras.layers.Dense(units=128, activation=tf.nn.relu),\n",
    "    tf.keras.layers.Dropout(rate=0.2),\n",
    "    tf.keras.layers.Dense(10, activation=tf.nn.softmax)\n",
    "])\n",
    "\n",
    "\n",
    "model.compile(\n",
    "    optimizer=tf.keras.optimizers.Adam(0.001),\n",
    "    loss=tf.keras.losses.SparseCategoricalCrossentropy(from_logits=True),\n",
    "    metrics=[tf.keras.metrics.SparseCategoricalAccuracy()],\n",
    ")\n",
    "\n",
    "model.summary()\n",
    "\n",
    "import time\n",
    "from prometheus_client import CollectorRegistry, Gauge, push_to_gateway\n",
    "class SendMetrics(tf.keras.callbacks.Callback):\n",
    "    def __init__(self):\n",
    "        self.epoch_start_time = 0\n",
    "        self.batchstart = 0\n",
    "        self.batchtimes = []\n",
    "        self.current_time=time.time()\n",
    "        \n",
    "        self.pushgateway_url = \"http://prom-push-as-pushgateway.apps.zero.massopen.cloud\"\n",
    "        self.registry = CollectorRegistry()\n",
    "        self.epoch_gauge = Gauge(name='epoch_duration_seconds', documentation='epoch_value is the metric itself, the stuff in the {}s are tags',labelnames=[\"model\",\"framework\",\"date\",\"epoch\"],registry=self.registry)\n",
    "        self.step_gauge = Gauge(name='step_during_milliseconds', documentation='step_during_milliseconds is the metric itself, the stuff in the {}s are tags',labelnames=[\"model\",\"framework\",\"date\",\"epoch\"],registry=self.registry)\n",
    "\n",
    "    def on_epoch_begin(self, epoch, logs=None):\n",
    "        self.epoch_start_time=tf.timestamp()\n",
    "        \n",
    "    def on_epoch_end(self, epoch, logs=None):\n",
    "        keys = list(logs.keys())\n",
    "        total=0\n",
    "        count=0\n",
    "        for x in self.batchtimes:\n",
    "            total=total+x\n",
    "            count=count+1\n",
    "        \n",
    "        value_formatter = \"{0:.2f}\"\n",
    "        epoch_value = value_formatter.format(tf.timestamp() - self.epoch_start_time)\n",
    "        step_value = value_formatter.format(total/count*1000)\n",
    "        print(\"epoch={}, epoch time={}s, step time={}ms\".format(epoch, epoch_value, step_value))\n",
    "        self.add_metrics_data(epoch,epoch_value,step_value)\n",
    "        \n",
    "    def on_train_batch_begin(self, batch, logs=None):\n",
    "        self.batchstart=tf.timestamp()\n",
    "        \n",
    "\n",
    "    def on_train_batch_end(self, batch, logs=None):\n",
    "        self.batchtimes.append(tf.timestamp()- self.batchstart)   \n",
    "            \n",
    "    def add_metrics_data(self, epoch_num, epoch_value, step_value):                  \n",
    "        self.epoch_gauge.labels(\"mnist-minimal\",\"Tensorflow\",self.current_time,epoch_num).set(epoch_value)\n",
    "        self.step_gauge.labels(\"mnist-minimal\",\"Tensorflow\",self.current_time,epoch_num).set(step_value)  \n",
    "        push_to_gateway(self.pushgateway_url, job='jupyterhub_load', registry=self.registry)\n",
    "        \n",
    "model.fit(mnist_train, epochs=5, validation_data=mnist_test, callbacks=[SendMetrics()])\n"
   ]
  }
 ],
 "metadata": {
  "finalized": {
   "timestamp": 1614876075124,
   "trusted": true
  },
  "kernelspec": {
   "display_name": "Python 3",
   "language": "python",
   "name": "python3"
  },
  "language_info": {
   "codemirror_mode": {
    "name": "ipython",
    "version": 3
   },
   "file_extension": ".py",
   "mimetype": "text/x-python",
   "name": "python",
   "nbconvert_exporter": "python",
   "pygments_lexer": "ipython3",
   "version": "3.6.8"
  },
  "toc": {
   "base_numbering": 1,
   "nav_menu": {},
   "number_sections": true,
   "sideBar": true,
   "skip_h1_title": false,
   "title_cell": "Table of Contents",
   "title_sidebar": "Contents",
   "toc_cell": false,
   "toc_position": {},
   "toc_section_display": true,
   "toc_window_display": false
  }
 },
 "nbformat": 4,
 "nbformat_minor": 5
}
